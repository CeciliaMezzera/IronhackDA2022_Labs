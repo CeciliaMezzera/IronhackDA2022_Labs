{
 "cells": [
  {
   "cell_type": "markdown",
   "metadata": {},
   "source": [
    "# StackAPI\n",
    "\n",
    "#### Import the necessary libraries here:"
   ]
  },
  {
   "cell_type": "code",
   "execution_count": 1,
   "metadata": {},
   "outputs": [],
   "source": [
    "# your code here\n",
    "import pandas as pd\n",
    "import numpy as np\n",
    "import requests\n",
    "import json\n",
    "from stackapi import StackAPI\n",
    "import time\n",
    "import datetime"
   ]
  },
  {
   "cell_type": "code",
   "execution_count": 2,
   "metadata": {},
   "outputs": [],
   "source": [
    "url = 'https://stackapi.readthedocs.io/en/latest/'\n",
    "# print(url)\n",
    "\n",
    "SITE = StackAPI('stackoverflow')"
   ]
  },
  {
   "cell_type": "markdown",
   "metadata": {},
   "source": [
    "#### Question 1: Find the questions and answers of last month."
   ]
  },
  {
   "cell_type": "code",
   "execution_count": 12,
   "metadata": {},
   "outputs": [],
   "source": [
    "# your code here\n",
    "py_questions = SITE.fetch('questions',min=1641513600, max=1644192000, accepted=True)\n",
    "\n",
    "# &sort=activity&site=stackoverflow\n"
   ]
  },
  {
   "cell_type": "code",
   "execution_count": 13,
   "metadata": {},
   "outputs": [
    {
     "data": {
      "text/plain": [
       "{'tags': ['python', 'replace', 'quotes', 'double-quotes'],\n",
       " 'owner': {'reputation': 13,\n",
       "  'user_id': 17968305,\n",
       "  'user_type': 'registered',\n",
       "  'profile_image': 'https://lh3.googleusercontent.com/a/AATXAJzXPdZVKI2GyEduGj-BJ8ZWHKDNj5_Xc4oBoHur=k-s256',\n",
       "  'display_name': 'SammySaucer',\n",
       "  'link': 'https://stackoverflow.com/users/17968305/sammysaucer'},\n",
       " 'is_answered': False,\n",
       " 'view_count': 65,\n",
       " 'answer_count': 2,\n",
       " 'score': 1,\n",
       " 'last_activity_date': 1644191979,\n",
       " 'creation_date': 1642888997,\n",
       " 'last_edit_date': 1644191979,\n",
       " 'question_id': 70817507,\n",
       " 'content_license': 'CC BY-SA 4.0',\n",
       " 'link': 'https://stackoverflow.com/questions/70817507/adding-quotes-to-text-in-line-using-python',\n",
       " 'title': 'Adding quotes to text in line using Python'}"
      ]
     },
     "execution_count": 13,
     "metadata": {},
     "output_type": "execute_result"
    }
   ],
   "source": [
    "py_questions = pd.DataFrame(py_questions)\n",
    "py_questions.head()\n",
    "py_questions['items'][0]"
   ]
  },
  {
   "cell_type": "markdown",
   "metadata": {},
   "source": [
    "#### Question 2: Find the most voted question today with at least a score of 5 and tagged with 'python'. "
   ]
  },
  {
   "cell_type": "code",
   "execution_count": 60,
   "metadata": {},
   "outputs": [
    {
     "data": {
      "text/plain": [
       "{'tags': ['python', 'cpython', 'python-internals'],\n",
       " 'owner': {'reputation': 10182,\n",
       "  'user_id': 12671057,\n",
       "  'user_type': 'registered',\n",
       "  'profile_image': 'https://www.gravatar.com/avatar/140916921c72836a851d0f15779d5f5b?s=256&d=identicon&r=PG&f=1',\n",
       "  'display_name': 'Kelly Bundy',\n",
       "  'link': 'https://stackoverflow.com/users/12671057/kelly-bundy'},\n",
       " 'is_answered': True,\n",
       " 'view_count': 6588,\n",
       " 'closed_date': 1643494282,\n",
       " 'answer_count': 3,\n",
       " 'score': 87,\n",
       " 'last_activity_date': 1643410047,\n",
       " 'creation_date': 1643300597,\n",
       " 'question_id': 70882092,\n",
       " 'link': 'https://stackoverflow.com/questions/70882092/make-1-2-true',\n",
       " 'closed_reason': 'Duplicate',\n",
       " 'title': 'Make 1 == 2 true?'}"
      ]
     },
     "execution_count": 60,
     "metadata": {},
     "output_type": "execute_result"
    }
   ],
   "source": [
    "# your code here\n",
    "py_questions2 = SITE.fetch('questions',min=1644192000, max=1644192000, accepted=True, tag='python')\n",
    "py_questions2 = pd.DataFrame(py_questions2)\n",
    "py_questions2.head()\n",
    "py_questions2['items'][0]"
   ]
  },
  {
   "cell_type": "markdown",
   "metadata": {},
   "source": [
    "#### Question 3: Find the answers with id 6784 and 6473."
   ]
  },
  {
   "cell_type": "code",
   "execution_count": null,
   "metadata": {},
   "outputs": [],
   "source": [
    "# your code here\n",
    "comments = SITE.fetch('comments')"
   ]
  },
  {
   "cell_type": "code",
   "execution_count": 61,
   "metadata": {},
   "outputs": [
    {
     "data": {
      "text/html": [
       "<div>\n",
       "<style scoped>\n",
       "    .dataframe tbody tr th:only-of-type {\n",
       "        vertical-align: middle;\n",
       "    }\n",
       "\n",
       "    .dataframe tbody tr th {\n",
       "        vertical-align: top;\n",
       "    }\n",
       "\n",
       "    .dataframe thead th {\n",
       "        text-align: right;\n",
       "    }\n",
       "</style>\n",
       "<table border=\"1\" class=\"dataframe\">\n",
       "  <thead>\n",
       "    <tr style=\"text-align: right;\">\n",
       "      <th></th>\n",
       "      <th>backoff</th>\n",
       "      <th>has_more</th>\n",
       "      <th>page</th>\n",
       "      <th>quota_max</th>\n",
       "      <th>quota_remaining</th>\n",
       "      <th>total</th>\n",
       "      <th>items</th>\n",
       "    </tr>\n",
       "  </thead>\n",
       "  <tbody>\n",
       "    <tr>\n",
       "      <th>0</th>\n",
       "      <td>0</td>\n",
       "      <td>True</td>\n",
       "      <td>5</td>\n",
       "      <td>300</td>\n",
       "      <td>187</td>\n",
       "      <td>0</td>\n",
       "      <td>{'owner': {'reputation': 5973, 'user_id': 1114...</td>\n",
       "    </tr>\n",
       "    <tr>\n",
       "      <th>1</th>\n",
       "      <td>0</td>\n",
       "      <td>True</td>\n",
       "      <td>5</td>\n",
       "      <td>300</td>\n",
       "      <td>187</td>\n",
       "      <td>0</td>\n",
       "      <td>{'owner': {'reputation': 754971, 'user_id': 37...</td>\n",
       "    </tr>\n",
       "    <tr>\n",
       "      <th>2</th>\n",
       "      <td>0</td>\n",
       "      <td>True</td>\n",
       "      <td>5</td>\n",
       "      <td>300</td>\n",
       "      <td>187</td>\n",
       "      <td>0</td>\n",
       "      <td>{'owner': {'reputation': 1154, 'user_id': 1640...</td>\n",
       "    </tr>\n",
       "    <tr>\n",
       "      <th>3</th>\n",
       "      <td>0</td>\n",
       "      <td>True</td>\n",
       "      <td>5</td>\n",
       "      <td>300</td>\n",
       "      <td>187</td>\n",
       "      <td>0</td>\n",
       "      <td>{'owner': {'reputation': 14773, 'user_id': 117...</td>\n",
       "    </tr>\n",
       "    <tr>\n",
       "      <th>4</th>\n",
       "      <td>0</td>\n",
       "      <td>True</td>\n",
       "      <td>5</td>\n",
       "      <td>300</td>\n",
       "      <td>187</td>\n",
       "      <td>0</td>\n",
       "      <td>{'owner': {'reputation': 4454, 'user_id': 4961...</td>\n",
       "    </tr>\n",
       "  </tbody>\n",
       "</table>\n",
       "</div>"
      ],
      "text/plain": [
       "   backoff  has_more  page  quota_max  quota_remaining  total  \\\n",
       "0        0      True     5        300              187      0   \n",
       "1        0      True     5        300              187      0   \n",
       "2        0      True     5        300              187      0   \n",
       "3        0      True     5        300              187      0   \n",
       "4        0      True     5        300              187      0   \n",
       "\n",
       "                                               items  \n",
       "0  {'owner': {'reputation': 5973, 'user_id': 1114...  \n",
       "1  {'owner': {'reputation': 754971, 'user_id': 37...  \n",
       "2  {'owner': {'reputation': 1154, 'user_id': 1640...  \n",
       "3  {'owner': {'reputation': 14773, 'user_id': 117...  \n",
       "4  {'owner': {'reputation': 4454, 'user_id': 4961...  "
      ]
     },
     "execution_count": 61,
     "metadata": {},
     "output_type": "execute_result"
    }
   ],
   "source": [
    "comments = pd.DataFrame(comments)\n",
    "comments.head()"
   ]
  },
  {
   "cell_type": "code",
   "execution_count": 64,
   "metadata": {},
   "outputs": [
    {
     "data": {
      "text/plain": [
       "0      {'owner': {'reputation': 5973, 'user_id': 1114...\n",
       "1      {'owner': {'reputation': 754971, 'user_id': 37...\n",
       "2      {'owner': {'reputation': 1154, 'user_id': 1640...\n",
       "3      {'owner': {'reputation': 14773, 'user_id': 117...\n",
       "4      {'owner': {'reputation': 4454, 'user_id': 4961...\n",
       "                             ...                        \n",
       "495    {'owner': {'reputation': 21564, 'user_id': 368...\n",
       "496    {'owner': {'reputation': 1, 'user_id': 1589851...\n",
       "497    {'owner': {'reputation': 84, 'user_id': 180457...\n",
       "498    {'owner': {'reputation': 72, 'user_id': 158333...\n",
       "499    {'owner': {'reputation': 451, 'user_id': 17665...\n",
       "Name: items, Length: 500, dtype: object"
      ]
     },
     "execution_count": 64,
     "metadata": {},
     "output_type": "execute_result"
    }
   ],
   "source": [
    "# ['6784']\n",
    "comments['items']"
   ]
  },
  {
   "cell_type": "code",
   "execution_count": null,
   "metadata": {},
   "outputs": [],
   "source": []
  }
 ],
 "metadata": {
  "kernelspec": {
   "display_name": "Python 3 (ipykernel)",
   "language": "python",
   "name": "python3"
  },
  "language_info": {
   "codemirror_mode": {
    "name": "ipython",
    "version": 3
   },
   "file_extension": ".py",
   "mimetype": "text/x-python",
   "name": "python",
   "nbconvert_exporter": "python",
   "pygments_lexer": "ipython3",
   "version": "3.9.7"
  }
 },
 "nbformat": 4,
 "nbformat_minor": 2
}
